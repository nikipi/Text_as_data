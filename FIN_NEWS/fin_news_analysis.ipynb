{
 "cells": [
  {
   "cell_type": "code",
   "execution_count": 79,
   "metadata": {},
   "outputs": [
    {
     "data": {
      "text/html": [
       "<div>\n",
       "<style scoped>\n",
       "    .dataframe tbody tr th:only-of-type {\n",
       "        vertical-align: middle;\n",
       "    }\n",
       "\n",
       "    .dataframe tbody tr th {\n",
       "        vertical-align: top;\n",
       "    }\n",
       "\n",
       "    .dataframe thead th {\n",
       "        text-align: right;\n",
       "    }\n",
       "</style>\n",
       "<table border=\"1\" class=\"dataframe\">\n",
       "  <thead>\n",
       "    <tr style=\"text-align: right;\">\n",
       "      <th></th>\n",
       "      <th>web-scraper-order</th>\n",
       "      <th>web-scraper-start-url</th>\n",
       "      <th>title</th>\n",
       "      <th>title-href</th>\n",
       "      <th>news</th>\n",
       "    </tr>\n",
       "  </thead>\n",
       "  <tbody>\n",
       "    <tr>\n",
       "      <th>0</th>\n",
       "      <td>1589216177-253</td>\n",
       "      <td>https://financialnews.com/</td>\n",
       "      <td>NaN</td>\n",
       "      <td>https://financialnews.com/news/9-successful-companies-created-during-an-economic-crisis/</td>\n",
       "      <td>Today Hyatt Hotels Corporation is valued at $5.6 billion. As of 2019, the chain has 913 hotels i...</td>\n",
       "    </tr>\n",
       "    <tr>\n",
       "      <th>1</th>\n",
       "      <td>1589216222-334</td>\n",
       "      <td>https://financialnews.com/</td>\n",
       "      <td>NaN</td>\n",
       "      <td>https://financialnews.com/news/crypto/bitcoin-price-crashes-below-9000-ahead-of-halving/</td>\n",
       "      <td>According to Rek.to, the volume of liquidations on the popular BitMEX crypto-derivative exchange...</td>\n",
       "    </tr>\n",
       "    <tr>\n",
       "      <th>2</th>\n",
       "      <td>1589216135-189</td>\n",
       "      <td>https://financialnews.com/</td>\n",
       "      <td>Small Business Loan Program Reaches 350 Billion Limit</td>\n",
       "      <td>https://financialnews.com/news/small-business-loan-program-runs-out/</td>\n",
       "      <td>The loans provided to these small businesses will be forgiven if the funds are used to pay emplo...</td>\n",
       "    </tr>\n",
       "    <tr>\n",
       "      <th>3</th>\n",
       "      <td>1589216123-166</td>\n",
       "      <td>https://financialnews.com/</td>\n",
       "      <td>Craig Wright withdraws lawsuit against Adam Back</td>\n",
       "      <td>https://financialnews.com/news/crypto/craig-wright-withdraws-lawsuit-against-adam-back/</td>\n",
       "      <td>This happened in January, but Beck found out about it just now.</td>\n",
       "    </tr>\n",
       "    <tr>\n",
       "      <th>4</th>\n",
       "      <td>1589216222-331</td>\n",
       "      <td>https://financialnews.com/</td>\n",
       "      <td>NaN</td>\n",
       "      <td>https://financialnews.com/news/crypto/bitcoin-price-crashes-below-9000-ahead-of-halving/</td>\n",
       "      <td>Today, May 10, the price of the first cryptocurrency suddenly fell below $9,000, breaking the up...</td>\n",
       "    </tr>\n",
       "  </tbody>\n",
       "</table>\n",
       "</div>"
      ],
      "text/plain": [
       "  web-scraper-order       web-scraper-start-url  \\\n",
       "0    1589216177-253  https://financialnews.com/   \n",
       "1    1589216222-334  https://financialnews.com/   \n",
       "2    1589216135-189  https://financialnews.com/   \n",
       "3    1589216123-166  https://financialnews.com/   \n",
       "4    1589216222-331  https://financialnews.com/   \n",
       "\n",
       "                                                   title  \\\n",
       "0                                                    NaN   \n",
       "1                                                    NaN   \n",
       "2  Small Business Loan Program Reaches 350 Billion Limit   \n",
       "3       Craig Wright withdraws lawsuit against Adam Back   \n",
       "4                                                    NaN   \n",
       "\n",
       "                                                                                 title-href  \\\n",
       "0  https://financialnews.com/news/9-successful-companies-created-during-an-economic-crisis/   \n",
       "1  https://financialnews.com/news/crypto/bitcoin-price-crashes-below-9000-ahead-of-halving/   \n",
       "2                      https://financialnews.com/news/small-business-loan-program-runs-out/   \n",
       "3   https://financialnews.com/news/crypto/craig-wright-withdraws-lawsuit-against-adam-back/   \n",
       "4  https://financialnews.com/news/crypto/bitcoin-price-crashes-below-9000-ahead-of-halving/   \n",
       "\n",
       "                                                                                                  news  \n",
       "0  Today Hyatt Hotels Corporation is valued at $5.6 billion. As of 2019, the chain has 913 hotels i...  \n",
       "1  According to Rek.to, the volume of liquidations on the popular BitMEX crypto-derivative exchange...  \n",
       "2  The loans provided to these small businesses will be forgiven if the funds are used to pay emplo...  \n",
       "3                                      This happened in January, but Beck found out about it just now.  \n",
       "4  Today, May 10, the price of the first cryptocurrency suddenly fell below $9,000, breaking the up...  "
      ]
     },
     "execution_count": 79,
     "metadata": {},
     "output_type": "execute_result"
    }
   ],
   "source": [
    "import pandas as pd\n",
    "import numpy as np\n",
    "import ssl\n",
    "ssl._create_default_https_context = ssl._create_unverified_context\n",
    "\n",
    "#显示所有列\n",
    "pd.set_option('display.max_columns', None)\n",
    "#显示所有行\n",
    "pd.set_option('display.max_rows', None)\n",
    "#设置value的显示长度为100，默认为50\n",
    "pd.set_option('max_colwidth',100)\n",
    "\n",
    "url = '/Users/apple/Desktop/fin.csv'\n",
    "\n",
    "fin= pd.read_csv(url)\n",
    "fin.head()"
   ]
  },
  {
   "cell_type": "code",
   "execution_count": 80,
   "metadata": {},
   "outputs": [],
   "source": [
    "# Standard libraries for data frames, arrays, and visualization\n",
    "import pandas as pd\n",
    "import numpy as np\n",
    "import matplotlib.pyplot as plt\n",
    "import matplotlib.dates as mdates\n",
    "from matplotlib.dates import date2num\n",
    "import seaborn as sns\n",
    "sns.set(style=\"white\")\n",
    "%matplotlib inline\n",
    "\n",
    "# Import Scikit Learn for preprocessing tools and algorithms\n",
    "import sklearn\n",
    "\n",
    "# Import library for setting dates\n",
    "import datetime as dt\n",
    "\n",
    "# Import library for reading pdf files\n",
    "import PyPDF2\n",
    "\n",
    "# Import wordclouds for visualizing topics\n",
    "import wordcloud\n",
    "\n",
    "# Import gensim library for calculating coherence measures\n",
    "import gensim\n",
    "\n",
    "# Import natural language package to remove stopwords and lemmatize terms\n",
    "import nltk\n",
    "\n",
    "# Import digits module to filter out numbers\n",
    "#import re\n",
    "import string\n",
    "\n",
    "# Import statsmodels for statistical analysis\n",
    "import statsmodels"
   ]
  },
  {
   "cell_type": "code",
   "execution_count": 81,
   "metadata": {},
   "outputs": [
    {
     "name": "stderr",
     "output_type": "stream",
     "text": [
      "[nltk_data] Downloading package stopwords to /Users/apple/nltk_data...\n",
      "[nltk_data]   Package stopwords is already up-to-date!\n",
      "[nltk_data] Downloading package wordnet to /Users/apple/nltk_data...\n",
      "[nltk_data]   Package wordnet is already up-to-date!\n"
     ]
    }
   ],
   "source": [
    "# Import tools to tokenize, remove stopwords, and lemmatize (or stem) words\n",
    "from sklearn.feature_extraction.text import CountVectorizer\n",
    "nltk.download('stopwords') # download collection of stopwords from NLTK\n",
    "from nltk.corpus import stopwords\n",
    "#from nltk.stem.porter import PorterStemmer\n",
    "nltk.download('wordnet') # download wordnet dictionary of lemmas\n",
    "from nltk.stem import WordNetLemmatizer\n",
    "from string import digits"
   ]
  },
  {
   "cell_type": "code",
   "execution_count": 82,
   "metadata": {},
   "outputs": [
    {
     "data": {
      "text/plain": [
       "web-scraper-order          0\n",
       "web-scraper-start-url      0\n",
       "title                    120\n",
       "title-href                 0\n",
       "news                       1\n",
       "dtype: int64"
      ]
     },
     "execution_count": 82,
     "metadata": {},
     "output_type": "execute_result"
    }
   ],
   "source": [
    "fin.isnull().sum()"
   ]
  },
  {
   "cell_type": "code",
   "execution_count": 83,
   "metadata": {},
   "outputs": [],
   "source": [
    "fin=fin.dropna()\n",
    "# or it will return error as \"float\"(nan is float)"
   ]
  },
  {
   "cell_type": "code",
   "execution_count": 84,
   "metadata": {},
   "outputs": [],
   "source": [
    "# Amount of words in each news"
   ]
  },
  {
   "cell_type": "code",
   "execution_count": 85,
   "metadata": {},
   "outputs": [
    {
     "data": {
      "text/plain": [
       "<matplotlib.axes._subplots.AxesSubplot at 0x118102e80>"
      ]
     },
     "execution_count": 85,
     "metadata": {},
     "output_type": "execute_result"
    },
    {
     "data": {
      "image/png": "[encoded data removed]",
      "text/plain": [
       "<Figure size 432x288 with 1 Axes>"
      ]
     },
     "metadata": {
      "needs_background": "light"
     },
     "output_type": "display_data"
    }
   ],
   "source": [
    "def get_words_per_doc(txt):\n",
    "    # split text into words and count them.\n",
    "    return len(txt.split()) \n",
    "\n",
    "# apply to our data\n",
    "fin['num_words'] = fin['news'].apply(get_words_per_doc)\n",
    "fin['num_words'].hist()\n"
   ]
  },
  {
   "cell_type": "code",
   "execution_count": 86,
   "metadata": {},
   "outputs": [
    {
     "data": {
      "text/html": [
       "<div>\n",
       "<style scoped>\n",
       "    .dataframe tbody tr th:only-of-type {\n",
       "        vertical-align: middle;\n",
       "    }\n",
       "\n",
       "    .dataframe tbody tr th {\n",
       "        vertical-align: top;\n",
       "    }\n",
       "\n",
       "    .dataframe thead th {\n",
       "        text-align: right;\n",
       "    }\n",
       "</style>\n",
       "<table border=\"1\" class=\"dataframe\">\n",
       "  <thead>\n",
       "    <tr style=\"text-align: right;\">\n",
       "      <th></th>\n",
       "      <th>web-scraper-order</th>\n",
       "      <th>web-scraper-start-url</th>\n",
       "      <th>title</th>\n",
       "      <th>title-href</th>\n",
       "      <th>news</th>\n",
       "      <th>num_words</th>\n",
       "    </tr>\n",
       "  </thead>\n",
       "  <tbody>\n",
       "    <tr>\n",
       "      <th>2</th>\n",
       "      <td>1589216135-189</td>\n",
       "      <td>https://financialnews.com/</td>\n",
       "      <td>Small Business Loan Program Reaches 350 Billion Limit</td>\n",
       "      <td>https://financialnews.com/news/small-business-loan-program-runs-out/</td>\n",
       "      <td>The loans provided to these small businesses will be forgiven if the funds are used to pay emplo...</td>\n",
       "      <td>21</td>\n",
       "    </tr>\n",
       "    <tr>\n",
       "      <th>3</th>\n",
       "      <td>1589216123-166</td>\n",
       "      <td>https://financialnews.com/</td>\n",
       "      <td>Craig Wright withdraws lawsuit against Adam Back</td>\n",
       "      <td>https://financialnews.com/news/crypto/craig-wright-withdraws-lawsuit-against-adam-back/</td>\n",
       "      <td>This happened in January, but Beck found out about it just now.</td>\n",
       "      <td>12</td>\n",
       "    </tr>\n",
       "  </tbody>\n",
       "</table>\n",
       "</div>"
      ],
      "text/plain": [
       "  web-scraper-order       web-scraper-start-url  \\\n",
       "2    1589216135-189  https://financialnews.com/   \n",
       "3    1589216123-166  https://financialnews.com/   \n",
       "\n",
       "                                                   title  \\\n",
       "2  Small Business Loan Program Reaches 350 Billion Limit   \n",
       "3       Craig Wright withdraws lawsuit against Adam Back   \n",
       "\n",
       "                                                                                title-href  \\\n",
       "2                     https://financialnews.com/news/small-business-loan-program-runs-out/   \n",
       "3  https://financialnews.com/news/crypto/craig-wright-withdraws-lawsuit-against-adam-back/   \n",
       "\n",
       "                                                                                                  news  \\\n",
       "2  The loans provided to these small businesses will be forgiven if the funds are used to pay emplo...   \n",
       "3                                      This happened in January, but Beck found out about it just now.   \n",
       "\n",
       "   num_words  \n",
       "2         21  \n",
       "3         12  "
      ]
     },
     "execution_count": 86,
     "metadata": {},
     "output_type": "execute_result"
    }
   ],
   "source": [
    "fin.head(2)"
   ]
  },
  {
   "cell_type": "code",
   "execution_count": 87,
   "metadata": {},
   "outputs": [],
   "source": [
    "\n",
    "fin['count_chara']=fin['news'].str.len()\n"
   ]
  },
  {
   "cell_type": "code",
   "execution_count": 88,
   "metadata": {},
   "outputs": [
    {
     "data": {
      "text/html": [
       "<div>\n",
       "<style scoped>\n",
       "    .dataframe tbody tr th:only-of-type {\n",
       "        vertical-align: middle;\n",
       "    }\n",
       "\n",
       "    .dataframe tbody tr th {\n",
       "        vertical-align: top;\n",
       "    }\n",
       "\n",
       "    .dataframe thead th {\n",
       "        text-align: right;\n",
       "    }\n",
       "</style>\n",
       "<table border=\"1\" class=\"dataframe\">\n",
       "  <thead>\n",
       "    <tr style=\"text-align: right;\">\n",
       "      <th></th>\n",
       "      <th>web-scraper-order</th>\n",
       "      <th>web-scraper-start-url</th>\n",
       "      <th>title</th>\n",
       "      <th>title-href</th>\n",
       "      <th>news</th>\n",
       "      <th>num_words</th>\n",
       "      <th>count_chara</th>\n",
       "    </tr>\n",
       "  </thead>\n",
       "  <tbody>\n",
       "    <tr>\n",
       "      <th>2</th>\n",
       "      <td>1589216135-189</td>\n",
       "      <td>https://financialnews.com/</td>\n",
       "      <td>Small Business Loan Program Reaches 350 Billion Limit</td>\n",
       "      <td>https://financialnews.com/news/small-business-loan-program-runs-out/</td>\n",
       "      <td>The loans provided to these small businesses will be forgiven if the funds are used to pay emplo...</td>\n",
       "      <td>21</td>\n",
       "      <td>119</td>\n",
       "    </tr>\n",
       "    <tr>\n",
       "      <th>3</th>\n",
       "      <td>1589216123-166</td>\n",
       "      <td>https://financialnews.com/</td>\n",
       "      <td>Craig Wright withdraws lawsuit against Adam Back</td>\n",
       "      <td>https://financialnews.com/news/crypto/craig-wright-withdraws-lawsuit-against-adam-back/</td>\n",
       "      <td>This happened in January, but Beck found out about it just now.</td>\n",
       "      <td>12</td>\n",
       "      <td>63</td>\n",
       "    </tr>\n",
       "  </tbody>\n",
       "</table>\n",
       "</div>"
      ],
      "text/plain": [
       "  web-scraper-order       web-scraper-start-url  \\\n",
       "2    1589216135-189  https://financialnews.com/   \n",
       "3    1589216123-166  https://financialnews.com/   \n",
       "\n",
       "                                                   title  \\\n",
       "2  Small Business Loan Program Reaches 350 Billion Limit   \n",
       "3       Craig Wright withdraws lawsuit against Adam Back   \n",
       "\n",
       "                                                                                title-href  \\\n",
       "2                     https://financialnews.com/news/small-business-loan-program-runs-out/   \n",
       "3  https://financialnews.com/news/crypto/craig-wright-withdraws-lawsuit-against-adam-back/   \n",
       "\n",
       "                                                                                                  news  \\\n",
       "2  The loans provided to these small businesses will be forgiven if the funds are used to pay emplo...   \n",
       "3                                      This happened in January, but Beck found out about it just now.   \n",
       "\n",
       "   num_words  count_chara  \n",
       "2         21          119  \n",
       "3         12           63  "
      ]
     },
     "execution_count": 88,
     "metadata": {},
     "output_type": "execute_result"
    }
   ],
   "source": [
    "fin.head(2)"
   ]
  },
  {
   "cell_type": "code",
   "execution_count": 89,
   "metadata": {},
   "outputs": [
    {
     "data": {
      "text/html": [
       "<div>\n",
       "<style scoped>\n",
       "    .dataframe tbody tr th:only-of-type {\n",
       "        vertical-align: middle;\n",
       "    }\n",
       "\n",
       "    .dataframe tbody tr th {\n",
       "        vertical-align: top;\n",
       "    }\n",
       "\n",
       "    .dataframe thead th {\n",
       "        text-align: right;\n",
       "    }\n",
       "</style>\n",
       "<table border=\"1\" class=\"dataframe\">\n",
       "  <thead>\n",
       "    <tr style=\"text-align: right;\">\n",
       "      <th></th>\n",
       "      <th>web-scraper-order</th>\n",
       "      <th>web-scraper-start-url</th>\n",
       "      <th>title</th>\n",
       "      <th>title-href</th>\n",
       "      <th>news</th>\n",
       "      <th>num_words</th>\n",
       "      <th>count_chara</th>\n",
       "      <th>avg_words</th>\n",
       "    </tr>\n",
       "  </thead>\n",
       "  <tbody>\n",
       "    <tr>\n",
       "      <th>2</th>\n",
       "      <td>1589216135-189</td>\n",
       "      <td>https://financialnews.com/</td>\n",
       "      <td>Small Business Loan Program Reaches 350 Billion Limit</td>\n",
       "      <td>https://financialnews.com/news/small-business-loan-program-runs-out/</td>\n",
       "      <td>The loans provided to these small businesses will be forgiven if the funds are used to pay emplo...</td>\n",
       "      <td>21</td>\n",
       "      <td>119</td>\n",
       "      <td>5.666667</td>\n",
       "    </tr>\n",
       "    <tr>\n",
       "      <th>3</th>\n",
       "      <td>1589216123-166</td>\n",
       "      <td>https://financialnews.com/</td>\n",
       "      <td>Craig Wright withdraws lawsuit against Adam Back</td>\n",
       "      <td>https://financialnews.com/news/crypto/craig-wright-withdraws-lawsuit-against-adam-back/</td>\n",
       "      <td>This happened in January, but Beck found out about it just now.</td>\n",
       "      <td>12</td>\n",
       "      <td>63</td>\n",
       "      <td>5.250000</td>\n",
       "    </tr>\n",
       "  </tbody>\n",
       "</table>\n",
       "</div>"
      ],
      "text/plain": [
       "  web-scraper-order       web-scraper-start-url  \\\n",
       "2    1589216135-189  https://financialnews.com/   \n",
       "3    1589216123-166  https://financialnews.com/   \n",
       "\n",
       "                                                   title  \\\n",
       "2  Small Business Loan Program Reaches 350 Billion Limit   \n",
       "3       Craig Wright withdraws lawsuit against Adam Back   \n",
       "\n",
       "                                                                                title-href  \\\n",
       "2                     https://financialnews.com/news/small-business-loan-program-runs-out/   \n",
       "3  https://financialnews.com/news/crypto/craig-wright-withdraws-lawsuit-against-adam-back/   \n",
       "\n",
       "                                                                                                  news  \\\n",
       "2  The loans provided to these small businesses will be forgiven if the funds are used to pay emplo...   \n",
       "3                                      This happened in January, but Beck found out about it just now.   \n",
       "\n",
       "   num_words  count_chara  avg_words  \n",
       "2         21          119   5.666667  \n",
       "3         12           63   5.250000  "
      ]
     },
     "execution_count": 89,
     "metadata": {},
     "output_type": "execute_result"
    }
   ],
   "source": [
    "fin['avg_words']=fin['count_chara']/fin['num_words']\n",
    "fin.head(2)"
   ]
  },
  {
   "cell_type": "code",
   "execution_count": 90,
   "metadata": {},
   "outputs": [
    {
     "data": {
      "text/html": [
       "<div>\n",
       "<style scoped>\n",
       "    .dataframe tbody tr th:only-of-type {\n",
       "        vertical-align: middle;\n",
       "    }\n",
       "\n",
       "    .dataframe tbody tr th {\n",
       "        vertical-align: top;\n",
       "    }\n",
       "\n",
       "    .dataframe thead th {\n",
       "        text-align: right;\n",
       "    }\n",
       "</style>\n",
       "<table border=\"1\" class=\"dataframe\">\n",
       "  <thead>\n",
       "    <tr style=\"text-align: right;\">\n",
       "      <th></th>\n",
       "      <th>web-scraper-order</th>\n",
       "      <th>web-scraper-start-url</th>\n",
       "      <th>title</th>\n",
       "      <th>title-href</th>\n",
       "      <th>news</th>\n",
       "      <th>num_words</th>\n",
       "      <th>count_chara</th>\n",
       "      <th>avg_words</th>\n",
       "      <th>no_stop</th>\n",
       "    </tr>\n",
       "  </thead>\n",
       "  <tbody>\n",
       "    <tr>\n",
       "      <th>2</th>\n",
       "      <td>1589216135-189</td>\n",
       "      <td>https://financialnews.com/</td>\n",
       "      <td>Small Business Loan Program Reaches 350 Billion Limit</td>\n",
       "      <td>https://financialnews.com/news/small-business-loan-program-runs-out/</td>\n",
       "      <td>The loans provided to these small businesses will be forgiven if the funds are used to pay emplo...</td>\n",
       "      <td>21</td>\n",
       "      <td>119</td>\n",
       "      <td>5.666667</td>\n",
       "      <td>The loans provided small businesses forgiven funds used pay employees, rent mortgage.</td>\n",
       "    </tr>\n",
       "    <tr>\n",
       "      <th>3</th>\n",
       "      <td>1589216123-166</td>\n",
       "      <td>https://financialnews.com/</td>\n",
       "      <td>Craig Wright withdraws lawsuit against Adam Back</td>\n",
       "      <td>https://financialnews.com/news/crypto/craig-wright-withdraws-lawsuit-against-adam-back/</td>\n",
       "      <td>This happened in January, but Beck found out about it just now.</td>\n",
       "      <td>12</td>\n",
       "      <td>63</td>\n",
       "      <td>5.250000</td>\n",
       "      <td>This happened January, Beck found now.</td>\n",
       "    </tr>\n",
       "  </tbody>\n",
       "</table>\n",
       "</div>"
      ],
      "text/plain": [
       "  web-scraper-order       web-scraper-start-url  \\\n",
       "2    1589216135-189  https://financialnews.com/   \n",
       "3    1589216123-166  https://financialnews.com/   \n",
       "\n",
       "                                                   title  \\\n",
       "2  Small Business Loan Program Reaches 350 Billion Limit   \n",
       "3       Craig Wright withdraws lawsuit against Adam Back   \n",
       "\n",
       "                                                                                title-href  \\\n",
       "2                     https://financialnews.com/news/small-business-loan-program-runs-out/   \n",
       "3  https://financialnews.com/news/crypto/craig-wright-withdraws-lawsuit-against-adam-back/   \n",
       "\n",
       "                                                                                                  news  \\\n",
       "2  The loans provided to these small businesses will be forgiven if the funds are used to pay emplo...   \n",
       "3                                      This happened in January, but Beck found out about it just now.   \n",
       "\n",
       "   num_words  count_chara  avg_words  \\\n",
       "2         21          119   5.666667   \n",
       "3         12           63   5.250000   \n",
       "\n",
       "                                                                                 no_stop  \n",
       "2  The loans provided small businesses forgiven funds used pay employees, rent mortgage.  \n",
       "3                                                 This happened January, Beck found now.  "
      ]
     },
     "execution_count": 90,
     "metadata": {},
     "output_type": "execute_result"
    }
   ],
   "source": [
    "# remove stopwords\n",
    "from nltk.corpus import stopwords\n",
    "stop=stopwords.words('english')\n",
    "\n",
    "from nltk.corpus import stopwords\n",
    "fin['no_stop']=fin['news'].apply(lambda sen:\" \".join(x for x in sen.split() if x not in stop))\n",
    "fin.head(2)"
   ]
  },
  {
   "cell_type": "code",
   "execution_count": 91,
   "metadata": {},
   "outputs": [
    {
     "data": {
      "text/html": [
       "<div>\n",
       "<style scoped>\n",
       "    .dataframe tbody tr th:only-of-type {\n",
       "        vertical-align: middle;\n",
       "    }\n",
       "\n",
       "    .dataframe tbody tr th {\n",
       "        vertical-align: top;\n",
       "    }\n",
       "\n",
       "    .dataframe thead th {\n",
       "        text-align: right;\n",
       "    }\n",
       "</style>\n",
       "<table border=\"1\" class=\"dataframe\">\n",
       "  <thead>\n",
       "    <tr style=\"text-align: right;\">\n",
       "      <th></th>\n",
       "      <th>web-scraper-order</th>\n",
       "      <th>web-scraper-start-url</th>\n",
       "      <th>title</th>\n",
       "      <th>title-href</th>\n",
       "      <th>news</th>\n",
       "      <th>num_words</th>\n",
       "      <th>count_chara</th>\n",
       "      <th>avg_words</th>\n",
       "      <th>no_stop</th>\n",
       "    </tr>\n",
       "  </thead>\n",
       "  <tbody>\n",
       "    <tr>\n",
       "      <th>2</th>\n",
       "      <td>1589216135-189</td>\n",
       "      <td>https://financialnews.com/</td>\n",
       "      <td>Small Business Loan Program Reaches 350 Billion Limit</td>\n",
       "      <td>https://financialnews.com/news/small-business-loan-program-runs-out/</td>\n",
       "      <td>The loans provided to these small businesses will be forgiven if the funds are used to pay emplo...</td>\n",
       "      <td>21</td>\n",
       "      <td>119</td>\n",
       "      <td>5.666667</td>\n",
       "      <td>The loan provided small business forgiven fund used pay employees, rent mortgage.</td>\n",
       "    </tr>\n",
       "    <tr>\n",
       "      <th>3</th>\n",
       "      <td>1589216123-166</td>\n",
       "      <td>https://financialnews.com/</td>\n",
       "      <td>Craig Wright withdraws lawsuit against Adam Back</td>\n",
       "      <td>https://financialnews.com/news/crypto/craig-wright-withdraws-lawsuit-against-adam-back/</td>\n",
       "      <td>This happened in January, but Beck found out about it just now.</td>\n",
       "      <td>12</td>\n",
       "      <td>63</td>\n",
       "      <td>5.250000</td>\n",
       "      <td>This happened January, Beck found now.</td>\n",
       "    </tr>\n",
       "  </tbody>\n",
       "</table>\n",
       "</div>"
      ],
      "text/plain": [
       "  web-scraper-order       web-scraper-start-url  \\\n",
       "2    1589216135-189  https://financialnews.com/   \n",
       "3    1589216123-166  https://financialnews.com/   \n",
       "\n",
       "                                                   title  \\\n",
       "2  Small Business Loan Program Reaches 350 Billion Limit   \n",
       "3       Craig Wright withdraws lawsuit against Adam Back   \n",
       "\n",
       "                                                                                title-href  \\\n",
       "2                     https://financialnews.com/news/small-business-loan-program-runs-out/   \n",
       "3  https://financialnews.com/news/crypto/craig-wright-withdraws-lawsuit-against-adam-back/   \n",
       "\n",
       "                                                                                                  news  \\\n",
       "2  The loans provided to these small businesses will be forgiven if the funds are used to pay emplo...   \n",
       "3                                      This happened in January, but Beck found out about it just now.   \n",
       "\n",
       "   num_words  count_chara  avg_words  \\\n",
       "2         21          119   5.666667   \n",
       "3         12           63   5.250000   \n",
       "\n",
       "                                                                             no_stop  \n",
       "2  The loan provided small business forgiven fund used pay employees, rent mortgage.  \n",
       "3                                             This happened January, Beck found now.  "
      ]
     },
     "execution_count": 91,
     "metadata": {},
     "output_type": "execute_result"
    }
   ],
   "source": [
    "#lemmatize\n",
    "\n",
    "from textblob import Word\n",
    "fin['no_stop']=fin['no_stop'].apply(lambda x: \" \".join([Word(word).lemmatize()for word in x.split()]))\n",
    "fin.head(2)"
   ]
  },
  {
   "cell_type": "code",
   "execution_count": 92,
   "metadata": {},
   "outputs": [
    {
     "data": {
      "text/html": [
       "<div>\n",
       "<style scoped>\n",
       "    .dataframe tbody tr th:only-of-type {\n",
       "        vertical-align: middle;\n",
       "    }\n",
       "\n",
       "    .dataframe tbody tr th {\n",
       "        vertical-align: top;\n",
       "    }\n",
       "\n",
       "    .dataframe thead th {\n",
       "        text-align: right;\n",
       "    }\n",
       "</style>\n",
       "<table border=\"1\" class=\"dataframe\">\n",
       "  <thead>\n",
       "    <tr style=\"text-align: right;\">\n",
       "      <th></th>\n",
       "      <th>web-scraper-order</th>\n",
       "      <th>web-scraper-start-url</th>\n",
       "      <th>title</th>\n",
       "      <th>title-href</th>\n",
       "      <th>news</th>\n",
       "      <th>num_words</th>\n",
       "      <th>count_chara</th>\n",
       "      <th>avg_words</th>\n",
       "      <th>no_stop</th>\n",
       "    </tr>\n",
       "  </thead>\n",
       "  <tbody>\n",
       "    <tr>\n",
       "      <th>2</th>\n",
       "      <td>1589216135-189</td>\n",
       "      <td>https://financialnews.com/</td>\n",
       "      <td>Small Business Loan Program Reaches 350 Billion Limit</td>\n",
       "      <td>https://financialnews.com/news/small-business-loan-program-runs-out/</td>\n",
       "      <td>The loans provided to these small businesses will be forgiven if the funds are used to pay emplo...</td>\n",
       "      <td>21</td>\n",
       "      <td>119</td>\n",
       "      <td>5.666667</td>\n",
       "      <td>the loan provided small business forgiven fund used pay employees, rent mortgage.</td>\n",
       "    </tr>\n",
       "    <tr>\n",
       "      <th>3</th>\n",
       "      <td>1589216123-166</td>\n",
       "      <td>https://financialnews.com/</td>\n",
       "      <td>Craig Wright withdraws lawsuit against Adam Back</td>\n",
       "      <td>https://financialnews.com/news/crypto/craig-wright-withdraws-lawsuit-against-adam-back/</td>\n",
       "      <td>This happened in January, but Beck found out about it just now.</td>\n",
       "      <td>12</td>\n",
       "      <td>63</td>\n",
       "      <td>5.250000</td>\n",
       "      <td>this happened january, beck found now.</td>\n",
       "    </tr>\n",
       "  </tbody>\n",
       "</table>\n",
       "</div>"
      ],
      "text/plain": [
       "  web-scraper-order       web-scraper-start-url  \\\n",
       "2    1589216135-189  https://financialnews.com/   \n",
       "3    1589216123-166  https://financialnews.com/   \n",
       "\n",
       "                                                   title  \\\n",
       "2  Small Business Loan Program Reaches 350 Billion Limit   \n",
       "3       Craig Wright withdraws lawsuit against Adam Back   \n",
       "\n",
       "                                                                                title-href  \\\n",
       "2                     https://financialnews.com/news/small-business-loan-program-runs-out/   \n",
       "3  https://financialnews.com/news/crypto/craig-wright-withdraws-lawsuit-against-adam-back/   \n",
       "\n",
       "                                                                                                  news  \\\n",
       "2  The loans provided to these small businesses will be forgiven if the funds are used to pay emplo...   \n",
       "3                                      This happened in January, but Beck found out about it just now.   \n",
       "\n",
       "   num_words  count_chara  avg_words  \\\n",
       "2         21          119   5.666667   \n",
       "3         12           63   5.250000   \n",
       "\n",
       "                                                                             no_stop  \n",
       "2  the loan provided small business forgiven fund used pay employees, rent mortgage.  \n",
       "3                                             this happened january, beck found now.  "
      ]
     },
     "execution_count": 92,
     "metadata": {},
     "output_type": "execute_result"
    }
   ],
   "source": [
    "# Lowercase\n",
    "fin['no_stop']=fin['no_stop'].apply(lambda sen:\" \".join(x.lower() for x in sen.split()))\n",
    "fin.head(2)"
   ]
  },
  {
   "cell_type": "code",
   "execution_count": 93,
   "metadata": {},
   "outputs": [],
   "source": [
    "#remove the digit"
   ]
  },
  {
   "cell_type": "code",
   "execution_count": 94,
   "metadata": {},
   "outputs": [],
   "source": [
    "# common words and rare words"
   ]
  },
  {
   "cell_type": "code",
   "execution_count": 95,
   "metadata": {},
   "outputs": [
    {
     "data": {
      "text/plain": [
       "the          47\n",
       "business     17\n",
       "in           17\n",
       "north        16\n",
       "china        16\n",
       "according    16\n",
       "us           14\n",
       "may          13\n",
       "loan         13\n",
       "also         13\n",
       "dtype: int64"
      ]
     },
     "execution_count": 95,
     "metadata": {},
     "output_type": "execute_result"
    }
   ],
   "source": [
    "freq=pd.Series(' '.join(fin['no_stop']).split()).value_counts()[:10]\n",
    "freq"
   ]
  },
  {
   "cell_type": "code",
   "execution_count": 96,
   "metadata": {},
   "outputs": [
    {
     "data": {
      "text/plain": [
       "67.3%          1\n",
       "$200-500       1\n",
       "thousand       1\n",
       "coherent       1\n",
       "belousov.      1\n",
       "“i             1\n",
       "businesses.    1\n",
       "abnormal       1\n",
       "january,       1\n",
       "february       1\n",
       "dtype: int64"
      ]
     },
     "execution_count": 96,
     "metadata": {},
     "output_type": "execute_result"
    }
   ],
   "source": [
    "freq=pd.Series(' '.join(fin['no_stop']).split()).value_counts()[-10:]\n",
    "freq"
   ]
  },
  {
   "cell_type": "markdown",
   "metadata": {},
   "source": [
    "## Feature Extraction"
   ]
  },
  {
   "cell_type": "code",
   "execution_count": 97,
   "metadata": {},
   "outputs": [],
   "source": [
    "news=fin['no_stop']"
   ]
  },
  {
   "cell_type": "code",
   "execution_count": 98,
   "metadata": {},
   "outputs": [],
   "source": [
    "# semantic relationship\n",
    "# antonymy(raise-lower); hypernymy(dog-puppy)-- reverse hyponymy\n"
   ]
  },
  {
   "cell_type": "code",
   "execution_count": 99,
   "metadata": {},
   "outputs": [],
   "source": [
    "# Import NMF from Scikit Learn and \n",
    "from sklearn.decomposition import NMF\n",
    "from sklearn import metrics\n",
    "\n",
    "import gensim\n",
    "from sklearn.feature_extraction.text import CountVectorizer"
   ]
  },
  {
   "cell_type": "markdown",
   "metadata": {},
   "source": [
    "## LDA(Latent Dirichlet Allcation) topic modelling"
   ]
  },
  {
   "cell_type": "code",
   "execution_count": 101,
   "metadata": {},
   "outputs": [],
   "source": [
    "vect = CountVectorizer(min_df=2, max_df=0.2) \n",
    "# ignore terms that appear more then .. OR less than \n",
    "\n",
    "X = vect.fit_transform(news)\n",
    "\n",
    "# Convert sparse matrix to gensim corpus.\n",
    "corpus = gensim.matutils.Sparse2Corpus(X, documents_columns=False)\n",
    "\n",
    "# Mapping from word IDs to words (To be used in LdaModel's id2word parameter)\n",
    "id_map = dict((v, k) for k, v in vect.vocabulary_.items())\n"
   ]
  },
  {
   "cell_type": "code",
   "execution_count": 108,
   "metadata": {},
   "outputs": [],
   "source": [
    "ldamodel= gensim.models.ldamodel.LdaModel(corpus, num_topics=5, id2word=id_map, passes=25, random_state=34)"
   ]
  },
  {
   "cell_type": "code",
   "execution_count": 109,
   "metadata": {},
   "outputs": [
    {
     "data": {
      "text/plain": [
       "<gensim.models.ldamodel.LdaModel at 0x11d30c0f0>"
      ]
     },
     "execution_count": 109,
     "metadata": {},
     "output_type": "execute_result"
    }
   ],
   "source": [
    "ldamodel"
   ]
  },
  {
   "cell_type": "code",
   "execution_count": 110,
   "metadata": {},
   "outputs": [
    {
     "name": "stdout",
     "output_type": "stream",
     "text": [
      "[(0, '0.023*\"china\" + 0.017*\"in\" + 0.016*\"number\" + 0.016*\"fell\" + 0.014*\"according\" + 0.014*\"production\" + 0.014*\"benefit\" + 0.014*\"still\" + 0.013*\"april\" + 0.012*\"million\"'), (1, '0.017*\"business\" + 0.016*\"coronavirus\" + 0.012*\"loan\" + 0.012*\"program\" + 0.012*\"spread\" + 0.011*\"in\" + 0.011*\"economy\" + 0.010*\"billion\" + 0.010*\"region\" + 0.010*\"wright\"'), (2, '0.016*\"minister\" + 0.013*\"new\" + 0.013*\"infection\" + 0.013*\"province\" + 0.013*\"one\" + 0.013*\"kim\" + 0.012*\"prime\" + 0.011*\"11\" + 0.011*\"jong\" + 0.011*\"case\"'), (3, '0.015*\"level\" + 0.015*\"business\" + 0.011*\"record\" + 0.011*\"north\" + 0.011*\"according\" + 0.011*\"led\" + 0.011*\"coronavirus\" + 0.011*\"us\" + 0.009*\"it\" + 0.009*\"state\"'), (4, '0.021*\"year\" + 0.016*\"minister\" + 0.015*\"prime\" + 0.013*\"report\" + 0.013*\"loan\" + 0.013*\"rate\" + 0.011*\"19\" + 0.011*\"covid\" + 0.010*\"north\" + 0.010*\"billion\"')]\n"
     ]
    }
   ],
   "source": [
    "print(list(ldamodel.show_topics()))"
   ]
  },
  {
   "cell_type": "markdown",
   "metadata": {},
   "source": [
    "## tf-idf"
   ]
  },
  {
   "cell_type": "code",
   "execution_count": 116,
   "metadata": {},
   "outputs": [],
   "source": [
    "# tf-idf vectorizer up-weights rare/distinctive words\n",
    "from sklearn.feature_extraction.text import TfidfVectorizer\n",
    "tfidf = TfidfVectorizer(min_df=0.001, \n",
    "                        max_df=0.9,  \n",
    "                        max_features=20,\n",
    "                        stop_words='english',\n",
    "                        use_idf=True, # the new piece\n",
    "                        ngram_range=(1,2))\n",
    "\n",
    "X_tfidf = tfidf.fit_transform(news)"
   ]
  },
  {
   "cell_type": "code",
   "execution_count": 117,
   "metadata": {},
   "outputs": [
    {
     "data": {
      "text/plain": [
       "the prime minister instructed assistant schedule meeting minister cabinet next week. the politician return work critical time country quarantined month. ministers hope johnson give new impetus plan formulate strategy overcoming crisis. after treatment covid, prime minister discharged london hospital continues isolated suburban residence. johnson hospitalized exacerbating symptom covid-19 spent three night intensive care. johnson said earlier owes life national health service.    1\n",
       "recall recently, wright threatened new lawsuit, time miner operator lightning network nodes.                                                                                                                                                                                                                                                                                                                                                                                                        1\n",
       "the number new jobless claim expected continue grow, economy still shut due anti-coronavirus measure undermined business activity.                                                                                                                                                                                                                                                                                                                                                                  1\n",
       "“when ask dprk managed this, i’ll answer cryptocurrencies,”                                                                                                                                                                                                                                                                                                                                                                                                                                         1\n",
       "americans applied unemployment benefit huge number fourth consecutive week, although number application benefit last week fell expected.                                                                                                                                                                                                                                                                                                                                                            1\n",
       "russian prime minister mikhail mishustin fell ill coronavirus infection covid-19 went self-isolation. he reported president vladimir putin.                                                                                                                                                                                                                                                                                                                                                         1\n",
       "last month, us economy lost 701 thousand jobs. unemployment march jumped 3.5% 4.4%, peaking since august 2017.                                                                                                                                                                                                                                                                                                                                                                                      1\n",
       "apple already notified vulnerability partially fixed it. it recommended user whenever possible update system, disable manual automatic data download “push” option “passwords accounts” tab install alternative email client.                                                                                                                                                                                                                                                                       1\n",
       "the number american’s continuing receive unemployment benefit week ending april 4 increased 4.53 million record 12 million.                                                                                                                                                                                                                                                                                                                                                                         1\n",
       "the central bank china lowered rate loan issued framework medium-term lending facility (mlf) order reduce cost borrowing company amid outbreak coronavirus.                                                                                                                                                                                                                                                                                                                                         1\n",
       "further negative pressure prc economy exerted spread coronavirus, disrupted supply chain around world significantly reduced demand many products.                                                                                                                                                                                                                                                                                                                                                   1\n",
       "according professor economics princeton university atif mian, american debt reach level never matched modern history.                                                                                                                                                                                                                                                                                                                                                                               1\n",
       "the default email client mail ios operating system allows attacker steal information, including personal data, used registration cryptocurrency exchanges. the vulnerability discovered zecops cybersecurity company researchers.                                                                                                                                                                                                                                                                   1\n",
       "us public corporate debt level skyrocketed due coronavirus pandemic year. debt reached record highs, according the washington post.                                                                                                                                                                                                                                                                                                                                                                 1\n",
       "according fox news, state health north korean leader recent heart surgery may worse many thought.                                                                                                                                                                                                                                                                                                                                                                                                   1\n",
       "what happening happen everyone                                                                                                                                                                                                                                                                                                                                                                                                                                                                      1\n",
       "two week ago, difficulty increased 8.45%, reaching 15.96 t. this close record value 16.55 t, noted early march.                                                                                                                                                                                                                                                                                                                                                                                     1\n",
       "so japanese medium claim kim jong-un vegetative state bypass procedure.                                                                                                                                                                                                                                                                                                                                                                                                                             1\n",
       "as noted new york post, kim yo-jong big influence brother.                                                                                                                                                                                                                                                                                                                                                                                                                                          1\n",
       "in coming day state likely follow plan reopening.                                                                                                                                                                                                                                                                                                                                                                                                                                                   1\n",
       "in addition successful attack bitcoin exchanges, north korean hacker group also use ransomware secretly mine coin increased privacy.                                                                                                                                                                                                                                                                                                                                                                1\n",
       "north korea: $1.5 billion cryptocurrencies circumvent sanction                                                                                                                                                                                                                                                                                                                                                                                                                                      1\n",
       "according morgan stanley forecasts, us unemployment second quarter reach record level 15.7%.                                                                                                                                                                                                                                                                                                                                                                                                        1\n",
       "according zecops, vulnerability present apple device least ios 6, is, since september 2012.                                                                                                                                                                                                                                                                                                                                                                                                         1\n",
       "according estimate international monetary fund, us gdp fall end year 5.9 percent. in global economy, imf predicts, decline 3 percent recorded.                                                                                                                                                                                                                                                                                                                                                      1\n",
       "according royal united services institute (rusi), dprk us cryptocurrencies pay sanctioned good service intermediary companies, well convert fiat. the dprk authority also accumulate digital currency hope increase value.                                                                                                                                                                                                                                                                          1\n",
       "the annual loan rate first-class borrower (lpr) reduced 4.05% 3.85%, five-year rate affecting cost mortgage loan reduced 4.75% 4.65%.                                                                                                                                                                                                                                                                                                                                                               1\n",
       "eisenman belief north korean regime gone far ahead compared iran venezuela country network technical university group train, fact, state hackers.                                                                                                                                                                                                                                                                                                                                                   1\n",
       "nevertheless, using satellite imagery last thursday, 250-meter train north korean leader discovered near residence wonsan. and although location kim jong-un reliably known, presence train may indicate arrived residence home.                                                                                                                                                                                                                                                                    1\n",
       "hackers already exploited device running ios 11, 12 13. their victim resident north america, japan, saudi arabia, israel, germany countries. whether user harmed reported.                                                                                                                                                                                                                                                                                                                          1\n",
       "revenues chinese state-owned enterprise central subordination decreased 11.8% year year 6 trillion yuan (about $857.14 billion).                                                                                                                                                                                                                                                                                                                                                                    1\n",
       "mi feng, spokesman china state health committee, said sunday case local group infection recorded china may 9. during day, 12 local case infection recorded throughout country, one wuhan 11 jilin province, highest since march 11. all patient jilin province member family individual close contact them.                                                                                                                                                                                         1\n",
       "“i think report incorrect,” trump said white house briefing, adding heard reporting based “old documents”.                                                                                                                                                                                                                                                                                                                                                                                          1\n",
       "once there’s documented decline, region could enter phase 1 plan. this limit brings social gathering limit 10 people, though school still remain closed still recommended person partake non-essential travel.                                                                                                                                                                                                                                                                                      1\n",
       "the delegation led senior official the international liaison department central committee communist party china. details visit disclosed due sensitivity issue.                                                                                                                                                                                                                                                                                                                                     1\n",
       "a number large corporations, exxonmobil walgreens, already used credit available them.                                                                                                                                                                                                                                                                                                                                                                                                              1\n",
       "the recent news doubt devastating impact small business owners. many struggling keep business alive well avert layoffs. more money expected come, good estimate yet come. this led business owner turn federal reserve’s main street lending program.                                                                                                                                                                                                                                               1\n",
       "in 2018, adam beck, commenting article regarding progress lawsuit family dave kleiman wright regarding 1.1 million btc; noted material indicate falsification document tax fraud. he also emphasized technical point view obvious: neither wright kleiman satoshi nakamoto.                                                                                                                                                                                                                         1\n",
       "according btc.com, abnormal activity lasted several hours. for them, 7 12 new block registered.                                                                                                                                                                                                                                                                                                                                                                                                     1\n",
       "hong kong satellite television deputy director shijian xinjou, newspaper writes, also claim “very reputable source” told kim jong-un dead.                                                                                                                                                                                                                                                                                                                                                          1\n",
       "us president donald trump questioned report north korean leader kim jong-un critical condition undergoing cardiovascular operation.                                                                                                                                                                                                                                                                                                                                                                 1\n",
       "is kim jong-un dead? china sends group doctor north korea amid rumor dictator’s death                                                                                                                                                                                                                                                                                                                                                                                                               1\n",
       "bitcoin miner mined four block le minute may 1                                                                                                                                                                                                                                                                                                                                                                                                                                                      1\n",
       "earlier sunday, epidemiological threat level dongsihu area ​​wuhan, new infection since beginning april, raised low high one new case infection detected city, well 16 asymptomatic carriers.                                                                                                                                                                                                                                                                                                       1\n",
       "according forecasts, federal budget deficit grow $4 trillion, making national debt greater entire gdp nation. the last time happened mid 1940’s.                                                                                                                                                                                                                                                                                                                                                    1\n",
       "earlier, wright sued beck, also founder bitcoin.com, roger ver, leading podcast bitcoin peter mccormack twitter user nickname hodlonaut. they claimed wright lying, calling inventor world’s first cryptocurrency.                                                                                                                                                                                                                                                                                  1\n",
       "in previous quarter, september december 2019, chinese economy grew 6%. according estimate national bureau statistics, decline gdp i quarter compared previous one 9.8%.                                                                                                                                                                                                                                                                                                                             1\n",
       "peter mccormack recalled disappointing result wright’s trials. about case, wrote “a lot idle talk” him, australian, matter already seemed lost.                                                                                                                                                                                                                                                                                                                                                     1\n",
       "unlike ppp (which forgive loans), main street program traditional loan; though one significantly low interest rates. the program open company many 10,000 employee support $600 billion total loans. additionally, business approved ppp loan also apply main street loans. to eligible though, business need least $250,000 earnings taxes.                                                                                                                                                        1\n",
       "next week another recalculation mining complexity, regulates speed mining blocks. it expected change much (+ 0.19%).                                                                                                                                                                                                                                                                                                                                                                                1\n",
       "for first 2 phases, higher at-risk individual still encouraged stay home. and everyone else, face coverings, smart hygiene, telecommuting still recommended.                                                                                                                                                                                                                                                                                                                                        1\n",
       "according daily mail, rumor kim jong-un passed away. the publication refers famous journalist hong kong.                                                                                                                                                                                                                                                                                                                                                                                            1\n",
       "iphone vulnerability allows hacker steal data default email client ios                                                                                                                                                                                                                                                                                                                                                                                                                              1\n",
       "she headed headquarters kim jong-un, led north korean delegation 2018 winter olympics, led dprk’s propaganda department.                                                                                                                                                                                                                                                                                                                                                                            1\n",
       "the upcoming halving bitcoin take place block 630,000. accelerating production new block bring event closer. but, according the halvening, block reward cut still planned may 12th.                                                                                                                                                                                                                                                                                                                 1\n",
       "in order somehow support economy context spread coronavirus, us federal reserve lowered key rate zero. in addition, us federal reserve added $2 trillion portfolio. a similar amount (adjusted inflation) added four year great depression.                                                                                                                                                                                                                                                         1\n",
       "chainalysis researcher note amount fund used digital currency achieve goal grown significantly last year’s $200-500 million.                                                                                                                                                                                                                                                                                                                                                                        1\n",
       "according revised data week earlier, 6.615 million application filed, rather 6.606 million, originally reported.                                                                                                                                                                                                                                                                                                                                                                                    1\n",
       "the ppp, administered small business administration participating banks, rife complaint start. firstly, known $350 billion allocation would enough start. and reason run sooner program first week rife technical glitches, confusion business owner looking apply, misinformation bankers.                                                                                                                                                                                                         1\n",
       "amid conflicting report health north korean leader kim jong-un, china sent group medical expert dprk consultation, reuters reports.                                                                                                                                                                                                                                                                                                                                                                 1\n",
       "australian entrepreneur craig wright, self-proclaimed creator bitcoin, withdrew lawsuit defending honor dignity blockstream ceo adam back fully paid legal expenses.                                                                                                                                                                                                                                                                                                                                1\n",
       "interviewed coindesk expert believe cryptocurrency worth $1.5 billion used finance north korea’s international trade supply chains, bypassing sanctions.                                                                                                                                                                                                                                                                                                                                            1\n",
       "it became known test i [had taken] coronavirus gave positive result. in regard, accordance requirement the federal service surveillance consumer rights protection human well being, i must observe self-isolation, necessary order protect colleagues.                                                                                                                                                                                                                                             1\n",
       "the utilization rate production capacity china’s industry fell 67.3% 75.9% period previous year, national bureau statistics china calculated.                                                                                                                                                                                                                                                                                                                                                       1\n",
       "we definitely approaching point return.                                                                                                                                                                                                                                                                                                                                                                                                                                                             1\n",
       "over past four weeks, 20 million application filed backdrop tough measure combat spread coronavirus.                                                                                                                                                                                                                                                                                                                                                                                                1\n",
       "texas governor abbott also announced establishment strike force; made medical expert public/private leader expected advise governor safe strategic mean reopening state.                                                                                                                                                                                                                                                                                                                            1\n",
       "governors north dakota idaho announced nonessential business able reopen may 1st. ohio’s governor stated start slow reopening date.                                                                                                                                                                                                                                                                                                                                                                 1\n",
       "the government hope prime minister give new impetus plan formulate strategy overcoming crisis. british prime minister boris johnson monday plan return work begin active fight coronavirus pandemic, report the telegraph.                                                                                                                                                                                                                                                                          1\n",
       "china’s gdp i quarter year fell first time 28 year – 6.8% 20.65 trillion yuan, national statistical bureau china reported.                                                                                                                                                                                                                                                                                                                                                                          1\n",
       "for many, main street loan might last resort option business owner wait funding ppp. recent proposal funding centered additional $250 billion funding. however, lender small business advocate estimated amount needed might closer $1 trillion.                                                                                                                                                                                                                                                    1\n",
       "in april, critical vulnerability bisq exchange, attacker withdrew $ 250,000 btc xmr.                                                                                                                                                                                                                                                                                                                                                                                                                1\n",
       "earlier, analytical service ciphertrace presented detailed analysis two chinese citizen managed legalize stolen cryptocurrency worth $100 million. however, task find specific connection global trading networks.                                                                                                                                                                                                                                                                                  1\n",
       "it’s reported ~5000 bank made around 1.6 million loan program. major lender include wells fargo, bank america, jpmorgan.                                                                                                                                                                                                                                                                                                                                                                            1\n",
       "small business loan program reaches 350 billion limit                                                                                                                                                                                                                                                                                                                                                                                                                                               1\n",
       "this happened january, beck found now.                                                                                                                                                                                                                                                                                                                                                                                                                                                              1\n",
       "pyongyang technically circumvents un sanction transferring cargo high sea without ship entering port. this often lead disconnection automatic identification system used shipping. similar trick context supply coal oil product recorded report international organization.                                                                                                                                                                                                                        1\n",
       "recently president trump unveiled guideline state outlined stage reopening businesses. trumps plan outline 3 phases; serving recommendation rather binding authority state government need follow. the plan also stipulates region considers reopening first recorded decline covid infection within 14 day period.                                                                                                                                                                                 1\n",
       "“you must somehow pay intermediaries. it’s obvious cryptocurrency used,”                                                                                                                                                                                                                                                                                                                                                                                                                            1\n",
       "6.6 million apply unemployment benefit us                                                                                                                                                                                                                                                                                                                                                                                                                                                           1\n",
       "the country’s finance minister, stephen mnuchin, belief deficit eliminated future, necessary provide support business suffering epidemic.                                                                                                                                                                                                                                                                                                                                                           1\n",
       "with help vulnerability, hacker steal photos, information contacts, also modify delete user emails, potentially provides access data used registration bitcoin exchanges.                                                                                                                                                                                                                                                                                                                           1\n",
       "recovering covid johnson returns work                                                                                                                                                                                                                                                                                                                                                                                                                                                               1\n",
       "the application allows connect email several providers. the device infected letter sent mail special attachment. moreover, vulnerability activated even letter fully downloaded. it absorbs significant amount iphone ipad memory cause short-term malfunction operating system.                                                                                                                                                                                                                    1\n",
       "analysts surveyed bloomberg, average, predicted decrease number application 5.5 million.                                                                                                                                                                                                                                                                                                                                                                                                            1\n",
       "the north korean media, turn, report anything kim’s health status whereabouts, despite much hype international press.                                                                                                                                                                                                                                                                                                                                                                               1\n",
       "some states begin reopening within a week                                                                                                                                                                                                                                                                                                                                                                                                                                                           1\n",
       "last night, may 1, bitcoin miner mined four block 46 seconds. normally would take 40 minutes. then hour, 12 block appeared – twice much average figure laid algorithm.                                                                                                                                                                                                                                                                                                                              1\n",
       "the central bank china lowered key rate support economy affected coronavirus.                                                                                                                                                                                                                                                                                                                                                                                                                       1\n",
       "mishustin, acting prime minister russia, diagnosed covid-19 temporarily left post. in absence proposed appointment first deputy prime minister andrei belousov. putin supported proposal.                                                                                                                                                                                                                                                                                                           1\n",
       "the number american citizen applying unemployment benefit first time week april 11 5.245 million, according us department labor.                                                                                                                                                                                                                                                                                                                                                                    1\n",
       "moscow mayor sergei sobyanin, commenting prime minister’s diagnosis, said mishustin regularly test coronavirus.                                                                                                                                                                                                                                                                                                                                                                                     1\n",
       "the loan provided small business forgiven fund used pay employees, rent mortgage.                                                                                                                                                                                                                                                                                                                                                                                                                   1\n",
       "china central bank lower key rate                                                                                                                                                                                                                                                                                                                                                                                                                                                                   1\n",
       "nchain’s leading researcher filed lawsuit uk. two them, ver hodlonaut, rejected court, since live country fall court jurisdiction.                                                                                                                                                                                                                                                                                                                                                                  1\n",
       "shulan city county northeastern jilin province recognized high-risk zone covid-19 11 people recently infected, according province’s press service.                                                                                                                                                                                                                                                                                                                                                  1\n",
       "craig wright withdraws lawsuit adam back                                                                                                                                                                                                                                                                                                                                                                                                                                                            1\n",
       "in un report, north korea “used cyberspace carry sophisticated attack steal funds” subsequently launder them. thus, expert recorded least 35 attack financial company 17 countries.                                                                                                                                                                                                                                                                                                                 1\n",
       "blockchain.com service record growth network hash, may 1 112.4 eh/s.                                                                                                                                                                                                                                                                                                                                                                                                                                1\n",
       "one chinese expert told kim grabbed chest fell ground visiting countryside early april. the doctor accompanied provided first necessary medical care delivered hospital.                                                                                                                                                                                                                                                                                                                            1\n",
       "the organization also belief use cryptocurrencies allows pyongyang rely le chinese banks, whose activity us authority monitor. in addition, digital asset good alternative cash.                                                                                                                                                                                                                                                                                                                    1\n",
       "phase 2 would allow non-essential travel resume, well allow re-opening school bar restaurants. social gathering limit 50 people. at stage still recommended adhere social distancing guidelines.                                                                                                                                                                                                                                                                                                    1\n",
       "the computing level bitcoin reached record level (136.3 eh/s) early march, followed drop along collapse market.                                                                                                                                                                                                                                                                                                                                                                                     1\n",
       "“definitely, dprk us cryptocurrencies finance trade,”                                                                                                                                                                                                                                                                                                                                                                                                                                               1\n",
       "it’s 14 day since small business able first apply loan $350 billion paycheck protection program (ppp). and earlier today small business administration (sba) announced run funds; shutting application ceasing enrollment new lender program.                                                                                                                                                                                                                                                       1\n",
       "the head cabinet, according belyakov, conduct self-isolation one medical institution supervision doctors.                                                                                                                                                                                                                                                                                                                                                                                           1\n",
       "over 80% central state-owned enterprise faced decline revenue quarter. but march, improved result resuming work: revenue grew level january 2020 – 2.2 trillion yuan.                                                                                                                                                                                                                                                                                                                               1\n",
       "after claim withdrawn, back expressed surprise wright paid expense legal service rpc company 65-75%, customary cases, completely 100%. it cost entrepreneur $25 thousand.                                                                                                                                                                                                                                                                                                                           1\n",
       "on may 7, one local case infection detected shulan, may 9 another 11 case detected. in accordance state standard determining epidemiological situation, jilin province raised epidemiological threat shulan medium high.                                                                                                                                                                                                                                                                            1\n",
       "in texas, store soon re-open retail go, medical procedure restricted able resume. on april 20, texas park reopen recreational activity, long certain guideline followed visitors. schools texas still expected remain closed remainder school year.                                                                                                                                                                                                                                                 1\n",
       "“we good relationship north korea, i good relationship kim jong un, i hope he’s okay. and i think fake report.”                                                                                                                                                                                                                                                                                                                                                                                     1\n",
       "in q1, retail sale china fell 19%. industrial production period fell 8.4%. previously, china also reported sharp decline export production activity.                                                                                                                                                                                                                                                                                                                                                1\n",
       "covid-19 making resurgence china                                                                                                                                                                                                                                                                                                                                                                                                                                                                    1\n",
       "jesse spiro pointed search evidence cross-border movement yet formed coherent picture.                                                                                                                                                                                                                                                                                                                                                                                                              1\n",
       "the medium also writes event emergency, north korean leader may replaced younger sister kim yo-jong.                                                                                                                                                                                                                                                                                                                                                                                                1\n",
       "the net profit industrial enterprise china decreased i quarter compared period 2019 58.8% due quarantine epidemic coronavirus.                                                                                                                                                                                                                                                                                                                                                                      1\n",
       "now business faced choice: either dismiss employees, stop fulfilling loan obligations. banks, part, demanded customer repay student loan “close” credit cards.                                                                                                                                                                                                                                                                                                                                      1\n",
       "in turn, mishustin appealed russians request take health responsibly possible may holidays.                                                                                                                                                                                                                                                                                                                                                                                                         1\n",
       "the people’s bank china said interest rate one-year mlf loan reduced 20 basis point 3.15% 2.95%, lowest level since introduction liquidity instrument september 2014. the regulator provided loan period one year amount 100 billion yuan ($14.19 billion) mlf.                                                                                                                                                                                                                                     1\n",
       "on december 31, 2019, chinese authority informed world health organization outbreak unknown pneumonia city wuhan central part country (hubei province). specialists found causative agent disease new coronavirus, later disease officially named covid-19. who march 11 announced pandemic new coronavirus world. on march 29, state health committee prc announced spread epidemic country generally stopped.                                                                                     1\n",
       "record level us public corporate debt                                                                                                                                                                                                                                                                                                                                                                                                                                                               1\n",
       "the bureau statistics note country facing tremendous pressure amid growing uncertainty instability due outbreak coronavirus. in addition, china new difficulty problem resumption work production.                                                                                                                                                                                                                                                                                                  1\n",
       "the final phase individual safely able see normalcy come back public life, at-risk individual able re-engage well end restriction staffing workplaces. it’s recommended phase 3 implemented community leader confident evidence second wave covid infections.                                                                                                                                                                                                                                       1\n",
       "a person who, i know, constantly checked, constantly trying avoid unnecessary contact protect disease, nevertheless, see fact have.                                                                                                                                                                                                                                                                                                                                                                 1\n",
       "some state already announced plan lift restriction currently place.                                                                                                                                                                                                                                                                                                                                                                                                                                 1\n",
       "russian prime minister mishustin infected coronavirus temporarily relieved duty                                                                                                                                                                                                                                                                                                                                                                                                                     1\n",
       "the prime minister assured government continue work usual, proposed appointment first deputy prime minister andrei belousov acting head cabinet. putin supported proposal.                                                                                                                                                                                                                                                                                                                          1\n",
       "the world’s second largest economy stopped earlier year beijing imposed large-scale restriction quarantine stop spread outbreak coronavirus began wuhan.                                                                                                                                                                                                                                                                                                                                            1\n",
       "the trump administration expressed support gop proposal extra $250 billion program. but democrats blocked bill congress; pushing bill include provision include fund hospital local government struggling deal coronavirus.                                                                                                                                                                                                                                                                         1\n",
       "recall dprk even organized conference blockchain cryptocurrencies. announced february delayed due outbreak coronavirus, event led ambiguous arrest ethereum developer virgil griffith accusation violating sanctions.                                                                                                                                                                                                                                                                               1\n",
       "the epidemiological threat associated spread coronavirus region china since may 7 become low authority border region heilongjiang russia north-east country reduced region low, region medium high threat level .                                                                                                                                                                                                                                                                                   1\n",
       "a spokesman head government, boris belyakov, said personally contact mishustin recently isolated undergo additional examination. the spokesman name specific names, noting prime minister’s personal contact limited possible past weeks.                                                                                                                                                                                                                                                           1\n",
       "the russian president also promised would continue consult mishustin making decision issue previously discussed him.                                                                                                                                                                                                                                                                                                                                                                                1\n",
       "“without opinion, without participation, final decision made,” putin said, wishing mishustin speedy recovery asking call hospital.                                                                                                                                                                                                                                                                                                                                                                  1\n",
       "priscilla moriuchi, head research recorded future, pointed us department justice’s report two chinese people charged laundering $100 million digital currencies.                                                                                                                                                                                                                                                                                                                                    1\n",
       "Name: no_stop, dtype: int64"
      ]
     },
     "execution_count": 117,
     "metadata": {},
     "output_type": "execute_result"
    }
   ],
   "source": [
    "news.value_counts()"
   ]
  },
  {
   "cell_type": "code",
   "execution_count": 118,
   "metadata": {},
   "outputs": [
    {
     "data": {
      "text/plain": [
       "['according',\n",
       " 'billion',\n",
       " 'business',\n",
       " 'china',\n",
       " 'coronavirus',\n",
       " 'covid',\n",
       " 'jong',\n",
       " 'kim',\n",
       " 'level',\n",
       " 'loan',\n",
       " 'million',\n",
       " 'minister',\n",
       " 'new',\n",
       " 'north',\n",
       " 'prime',\n",
       " 'prime minister',\n",
       " 'program',\n",
       " 'state',\n",
       " 'week',\n",
       " 'year']"
      ]
     },
     "execution_count": 118,
     "metadata": {},
     "output_type": "execute_result"
    }
   ],
   "source": [
    "vocab = tfidf.get_feature_names()\n",
    "vocab "
   ]
  },
  {
   "cell_type": "code",
   "execution_count": 120,
   "metadata": {},
   "outputs": [
    {
     "data": {
      "text/plain": [
       "<matplotlib.axes._subplots.AxesSubplot at 0x11d8742b0>"
      ]
     },
     "execution_count": 120,
     "metadata": {},
     "output_type": "execute_result"
    },
    {
     "data": {
      "image/png": "[encoded data removed]",
      "text/plain": [
       "<Figure size 432x288 with 1 Axes>"
      ]
     },
     "metadata": {
      "needs_background": "light"
     },
     "output_type": "display_data"
    }
   ],
   "source": [
    "from textblob import TextBlob\n",
    "fin['sentiment'] = fin['no_stop'].apply(lambda x: TextBlob(x).sentiment[0] )\n",
    "fin['sentiment'].hist()"
   ]
  },
  {
   "cell_type": "code",
   "execution_count": null,
   "metadata": {},
   "outputs": [],
   "source": []
  }
 ],
 "metadata": {
  "kernelspec": {
   "display_name": "Python 3",
   "language": "python",
   "name": "python3"
  },
  "language_info": {
   "codemirror_mode": {
    "name": "ipython",
    "version": 3
   },
   "file_extension": ".py",
   "mimetype": "text/x-python",
   "name": "python",
   "nbconvert_exporter": "python",
   "pygments_lexer": "ipython3",
   "version": "3.7.0"
  }
 },
 "nbformat": 4,
 "nbformat_minor": 4
}
