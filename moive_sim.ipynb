{
 "cells": [
  {
   "cell_type": "code",
   "execution_count": 30,
   "metadata": {},
   "outputs": [
    {
     "data": {
      "text/html": [
       "<div>\n",
       "<style scoped>\n",
       "    .dataframe tbody tr th:only-of-type {\n",
       "        vertical-align: middle;\n",
       "    }\n",
       "\n",
       "    .dataframe tbody tr th {\n",
       "        vertical-align: top;\n",
       "    }\n",
       "\n",
       "    .dataframe thead th {\n",
       "        text-align: right;\n",
       "    }\n",
       "</style>\n",
       "<table border=\"1\" class=\"dataframe\">\n",
       "  <thead>\n",
       "    <tr style=\"text-align: right;\">\n",
       "      <th></th>\n",
       "      <th>rank</th>\n",
       "      <th>title</th>\n",
       "      <th>genre</th>\n",
       "      <th>wiki_plot</th>\n",
       "      <th>imdb_plot</th>\n",
       "    </tr>\n",
       "  </thead>\n",
       "  <tbody>\n",
       "    <tr>\n",
       "      <th>0</th>\n",
       "      <td>0</td>\n",
       "      <td>The Godfather</td>\n",
       "      <td>[u' Crime', u' Drama']</td>\n",
       "      <td>On the day of his only daughter's wedding, Vito Corleone hears requests in his role as the Godfa...</td>\n",
       "      <td>In late summer 1945, guests are gathered for the wedding reception of Don Vito Corleone's daught...</td>\n",
       "    </tr>\n",
       "    <tr>\n",
       "      <th>1</th>\n",
       "      <td>1</td>\n",
       "      <td>The Shawshank Redemption</td>\n",
       "      <td>[u' Crime', u' Drama']</td>\n",
       "      <td>In 1947, banker Andy Dufresne is convicted of murdering his wife and her lover and sentenced to ...</td>\n",
       "      <td>In 1947, Andy Dufresne (Tim Robbins), a banker in Maine, is convicted of murdering his wife and ...</td>\n",
       "    </tr>\n",
       "    <tr>\n",
       "      <th>2</th>\n",
       "      <td>2</td>\n",
       "      <td>Schindler's List</td>\n",
       "      <td>[u' Biography', u' Drama', u' History']</td>\n",
       "      <td>In 1939, the Germans move Polish Jews into the Kraków Ghetto as World War II begins. Oskar Schin...</td>\n",
       "      <td>The relocation of Polish Jews from surrounding areas to Krakow begins in late 1939, shortly afte...</td>\n",
       "    </tr>\n",
       "    <tr>\n",
       "      <th>3</th>\n",
       "      <td>3</td>\n",
       "      <td>Raging Bull</td>\n",
       "      <td>[u' Biography', u' Drama', u' Sport']</td>\n",
       "      <td>In a brief scene in 1964, an aging, overweight Italian American, Jake LaMotta (Robert De Niro), ...</td>\n",
       "      <td>The film opens in 1964, where an older and fatter Jake LaMotta (Robert De Niro) practices his st...</td>\n",
       "    </tr>\n",
       "    <tr>\n",
       "      <th>4</th>\n",
       "      <td>4</td>\n",
       "      <td>Casablanca</td>\n",
       "      <td>[u' Drama', u' Romance', u' War']</td>\n",
       "      <td>It is early December 1941. American expatriate Rick Blaine is the proprietor of an upscale night...</td>\n",
       "      <td>In the early years of World War II, December 1941, the Moroccan coastal city of Casablanca attra...</td>\n",
       "    </tr>\n",
       "  </tbody>\n",
       "</table>\n",
       "</div>"
      ],
      "text/plain": [
       "   rank                     title                                    genre  \\\n",
       "0     0             The Godfather                   [u' Crime', u' Drama']   \n",
       "1     1  The Shawshank Redemption                   [u' Crime', u' Drama']   \n",
       "2     2          Schindler's List  [u' Biography', u' Drama', u' History']   \n",
       "3     3               Raging Bull    [u' Biography', u' Drama', u' Sport']   \n",
       "4     4                Casablanca        [u' Drama', u' Romance', u' War']   \n",
       "\n",
       "                                                                                             wiki_plot  \\\n",
       "0  On the day of his only daughter's wedding, Vito Corleone hears requests in his role as the Godfa...   \n",
       "1  In 1947, banker Andy Dufresne is convicted of murdering his wife and her lover and sentenced to ...   \n",
       "2  In 1939, the Germans move Polish Jews into the Kraków Ghetto as World War II begins. Oskar Schin...   \n",
       "3  In a brief scene in 1964, an aging, overweight Italian American, Jake LaMotta (Robert De Niro), ...   \n",
       "4  It is early December 1941. American expatriate Rick Blaine is the proprietor of an upscale night...   \n",
       "\n",
       "                                                                                             imdb_plot  \n",
       "0  In late summer 1945, guests are gathered for the wedding reception of Don Vito Corleone's daught...  \n",
       "1  In 1947, Andy Dufresne (Tim Robbins), a banker in Maine, is convicted of murdering his wife and ...  \n",
       "2  The relocation of Polish Jews from surrounding areas to Krakow begins in late 1939, shortly afte...  \n",
       "3  The film opens in 1964, where an older and fatter Jake LaMotta (Robert De Niro) practices his st...  \n",
       "4  In the early years of World War II, December 1941, the Moroccan coastal city of Casablanca attra...  "
      ]
     },
     "execution_count": 30,
     "metadata": {},
     "output_type": "execute_result"
    }
   ],
   "source": [
    "import pandas as pd\n",
    "import numpy as np\n",
    "import nltk\n",
    "\n",
    "#显示所有列\n",
    "pd.set_option('display.max_columns', None)\n",
    "#显示所有行\n",
    "pd.set_option('display.max_rows', None)\n",
    "#设置value的显示长度为100，默认为50\n",
    "pd.set_option('max_colwidth',100)\n",
    "\n",
    "url = 'https://raw.githubusercontent.com/samiriff/datacamp-projects/master/Find%20Movie%20Similarity%20from%20Plot%20Summaries/datasets/movies.csv'\n",
    "\n",
    "movie = pd.read_csv(url,engine='python')\n",
    "movie.head()"
   ]
  },
  {
   "cell_type": "code",
   "execution_count": 31,
   "metadata": {},
   "outputs": [],
   "source": [
    "movie['plot'] = movie['wiki_plot'].astype(str) + \"\\n\" + \\\n",
    "                 movie['imdb_plot'].astype(str)"
   ]
  },
  {
   "cell_type": "code",
   "execution_count": 32,
   "metadata": {},
   "outputs": [
    {
     "data": {
      "text/html": [
       "<div>\n",
       "<style scoped>\n",
       "    .dataframe tbody tr th:only-of-type {\n",
       "        vertical-align: middle;\n",
       "    }\n",
       "\n",
       "    .dataframe tbody tr th {\n",
       "        vertical-align: top;\n",
       "    }\n",
       "\n",
       "    .dataframe thead th {\n",
       "        text-align: right;\n",
       "    }\n",
       "</style>\n",
       "<table border=\"1\" class=\"dataframe\">\n",
       "  <thead>\n",
       "    <tr style=\"text-align: right;\">\n",
       "      <th></th>\n",
       "      <th>rank</th>\n",
       "      <th>title</th>\n",
       "      <th>genre</th>\n",
       "      <th>wiki_plot</th>\n",
       "      <th>imdb_plot</th>\n",
       "      <th>plot</th>\n",
       "    </tr>\n",
       "  </thead>\n",
       "  <tbody>\n",
       "    <tr>\n",
       "      <th>0</th>\n",
       "      <td>0</td>\n",
       "      <td>The Godfather</td>\n",
       "      <td>[u' Crime', u' Drama']</td>\n",
       "      <td>On the day of his only daughter's wedding, Vito Corleone hears requests in his role as the Godfa...</td>\n",
       "      <td>In late summer 1945, guests are gathered for the wedding reception of Don Vito Corleone's daught...</td>\n",
       "      <td>On the day of his only daughter's wedding, Vito Corleone hears requests in his role as the Godfa...</td>\n",
       "    </tr>\n",
       "    <tr>\n",
       "      <th>1</th>\n",
       "      <td>1</td>\n",
       "      <td>The Shawshank Redemption</td>\n",
       "      <td>[u' Crime', u' Drama']</td>\n",
       "      <td>In 1947, banker Andy Dufresne is convicted of murdering his wife and her lover and sentenced to ...</td>\n",
       "      <td>In 1947, Andy Dufresne (Tim Robbins), a banker in Maine, is convicted of murdering his wife and ...</td>\n",
       "      <td>In 1947, banker Andy Dufresne is convicted of murdering his wife and her lover and sentenced to ...</td>\n",
       "    </tr>\n",
       "    <tr>\n",
       "      <th>2</th>\n",
       "      <td>2</td>\n",
       "      <td>Schindler's List</td>\n",
       "      <td>[u' Biography', u' Drama', u' History']</td>\n",
       "      <td>In 1939, the Germans move Polish Jews into the Kraków Ghetto as World War II begins. Oskar Schin...</td>\n",
       "      <td>The relocation of Polish Jews from surrounding areas to Krakow begins in late 1939, shortly afte...</td>\n",
       "      <td>In 1939, the Germans move Polish Jews into the Kraków Ghetto as World War II begins. Oskar Schin...</td>\n",
       "    </tr>\n",
       "    <tr>\n",
       "      <th>3</th>\n",
       "      <td>3</td>\n",
       "      <td>Raging Bull</td>\n",
       "      <td>[u' Biography', u' Drama', u' Sport']</td>\n",
       "      <td>In a brief scene in 1964, an aging, overweight Italian American, Jake LaMotta (Robert De Niro), ...</td>\n",
       "      <td>The film opens in 1964, where an older and fatter Jake LaMotta (Robert De Niro) practices his st...</td>\n",
       "      <td>In a brief scene in 1964, an aging, overweight Italian American, Jake LaMotta (Robert De Niro), ...</td>\n",
       "    </tr>\n",
       "    <tr>\n",
       "      <th>4</th>\n",
       "      <td>4</td>\n",
       "      <td>Casablanca</td>\n",
       "      <td>[u' Drama', u' Romance', u' War']</td>\n",
       "      <td>It is early December 1941. American expatriate Rick Blaine is the proprietor of an upscale night...</td>\n",
       "      <td>In the early years of World War II, December 1941, the Moroccan coastal city of Casablanca attra...</td>\n",
       "      <td>It is early December 1941. American expatriate Rick Blaine is the proprietor of an upscale night...</td>\n",
       "    </tr>\n",
       "  </tbody>\n",
       "</table>\n",
       "</div>"
      ],
      "text/plain": [
       "   rank                     title                                    genre  \\\n",
       "0     0             The Godfather                   [u' Crime', u' Drama']   \n",
       "1     1  The Shawshank Redemption                   [u' Crime', u' Drama']   \n",
       "2     2          Schindler's List  [u' Biography', u' Drama', u' History']   \n",
       "3     3               Raging Bull    [u' Biography', u' Drama', u' Sport']   \n",
       "4     4                Casablanca        [u' Drama', u' Romance', u' War']   \n",
       "\n",
       "                                                                                             wiki_plot  \\\n",
       "0  On the day of his only daughter's wedding, Vito Corleone hears requests in his role as the Godfa...   \n",
       "1  In 1947, banker Andy Dufresne is convicted of murdering his wife and her lover and sentenced to ...   \n",
       "2  In 1939, the Germans move Polish Jews into the Kraków Ghetto as World War II begins. Oskar Schin...   \n",
       "3  In a brief scene in 1964, an aging, overweight Italian American, Jake LaMotta (Robert De Niro), ...   \n",
       "4  It is early December 1941. American expatriate Rick Blaine is the proprietor of an upscale night...   \n",
       "\n",
       "                                                                                             imdb_plot  \\\n",
       "0  In late summer 1945, guests are gathered for the wedding reception of Don Vito Corleone's daught...   \n",
       "1  In 1947, Andy Dufresne (Tim Robbins), a banker in Maine, is convicted of murdering his wife and ...   \n",
       "2  The relocation of Polish Jews from surrounding areas to Krakow begins in late 1939, shortly afte...   \n",
       "3  The film opens in 1964, where an older and fatter Jake LaMotta (Robert De Niro) practices his st...   \n",
       "4  In the early years of World War II, December 1941, the Moroccan coastal city of Casablanca attra...   \n",
       "\n",
       "                                                                                                  plot  \n",
       "0  On the day of his only daughter's wedding, Vito Corleone hears requests in his role as the Godfa...  \n",
       "1  In 1947, banker Andy Dufresne is convicted of murdering his wife and her lover and sentenced to ...  \n",
       "2  In 1939, the Germans move Polish Jews into the Kraków Ghetto as World War II begins. Oskar Schin...  \n",
       "3  In a brief scene in 1964, an aging, overweight Italian American, Jake LaMotta (Robert De Niro), ...  \n",
       "4  It is early December 1941. American expatriate Rick Blaine is the proprietor of an upscale night...  "
      ]
     },
     "execution_count": 32,
     "metadata": {},
     "output_type": "execute_result"
    }
   ],
   "source": [
    "movie.head()"
   ]
  },
  {
   "cell_type": "markdown",
   "metadata": {},
   "source": [
    "## Tokenization & Stemming"
   ]
  },
  {
   "cell_type": "code",
   "execution_count": 33,
   "metadata": {},
   "outputs": [
    {
     "data": {
      "text/plain": [
       "['Today', 'May', 'is', 'his', 'only', 'daughter', \"'s\", 'wedding']"
      ]
     },
     "execution_count": 33,
     "metadata": {},
     "output_type": "execute_result"
    }
   ],
   "source": [
    "# Tokenize a paragraph into sentences and store in sent_tokenized\n",
    "sent_tokenized = [sent for sent in nltk.sent_tokenize(\"\"\"\n",
    "                        Today (May 19, 2016) is his only daughter's wedding. \n",
    "                        Vito Corleone is the Godfather.\n",
    "                        \"\"\")]\n",
    "\n",
    "# Word Tokenize first sentence from sent_tokenized, save as words_tokenized\n",
    "words_tokenized = [word for word in nltk.word_tokenize(sent_tokenized[0])]\n",
    "\n",
    "# Remove tokens that do not contain any letters from words_tokenized\n",
    "import re\n",
    "\n",
    "filtered = [word for word in words_tokenized if re.search('[a-zA-Z]', word)]\n",
    "\n",
    "# Display filtered words to observe words after tokenization\n",
    "filtered"
   ]
  },
  {
   "cell_type": "code",
   "execution_count": 34,
   "metadata": {},
   "outputs": [
    {
     "name": "stdout",
     "output_type": "stream",
     "text": [
      "Without stemming:  ['Today', 'May', 'is', 'his', 'only', 'daughter', \"'s\", 'wedding']\n",
      "After stemming:    ['today', 'may', 'is', 'his', 'onli', 'daughter', \"'s\", 'wed']\n"
     ]
    }
   ],
   "source": [
    "# Import the SnowballStemmer to perform stemming\n",
    "from nltk.stem.snowball import SnowballStemmer\n",
    "\n",
    "# Create an English language SnowballStemmer object\n",
    "stemmer = SnowballStemmer(\"english\")\n",
    "\n",
    "# Print filtered to observe words without stemming\n",
    "print(\"Without stemming: \", filtered)\n",
    "\n",
    "# Stem the words from filtered and store in stemmed_words\n",
    "stemmed_words = [stemmer.stem(word) for word in filtered]\n",
    "\n",
    "# Print the stemmed_words to observe words after stemming\n",
    "print(\"After stemming:   \", stemmed_words)"
   ]
  },
  {
   "cell_type": "code",
   "execution_count": 35,
   "metadata": {},
   "outputs": [
    {
     "name": "stdout",
     "output_type": "stream",
     "text": [
      "['today', 'is', 'my', 'birthday', 'it', \"'s\", 'so', 'great', 'be', 'great', 'to', 'life']\n"
     ]
    }
   ],
   "source": [
    "# Define a funcation to perform both stemming and tokenization\n",
    "def tokenize_and_stem(text):\n",
    "    #tokenize by sentence, then by word\n",
    "    tokens=[word for sent in nltk.sent_tokenize(text) for word in nltk.word_tokenize(sent)]\n",
    "    #  filter the noise\n",
    "    filter_noise=[token for token in tokens if re.search('[a-zA-Z]',token)]\n",
    "    \n",
    "    #stem the filiter_tokens\n",
    "    stems=[stemmer.stem(word) for word in filter_noise ]\n",
    "    \n",
    "    return stems\n",
    "\n",
    "print(tokenize_and_stem(\"today is my birthday!!!! it's so great be greatful to life\"))"
   ]
  },
  {
   "cell_type": "markdown",
   "metadata": {},
   "source": [
    "### Create TfidfVectorizer"
   ]
  },
  {
   "cell_type": "code",
   "execution_count": 36,
   "metadata": {},
   "outputs": [],
   "source": [
    "# Import TfidfVectorizer to create TF-IDF vectors\n",
    "from sklearn.feature_extraction.text import TfidfVectorizer\n",
    "\n",
    "# Instantiate TfidfVectorizer object with stopwords and tokenizer\n",
    "# parameters for efficient processing of text\n",
    "tfidf_vectorizer = TfidfVectorizer(max_df=0.8, max_features=200000,\n",
    "                                 min_df=0.2, stop_words='english',\n",
    "                                 use_idf=True, tokenizer=tokenize_and_stem,\n",
    "                                 ngram_range=(1,3))"
   ]
  },
  {
   "cell_type": "code",
   "execution_count": 38,
   "metadata": {},
   "outputs": [
    {
     "data": {
      "text/plain": [
       "(100, 564)"
      ]
     },
     "execution_count": 38,
     "metadata": {},
     "output_type": "execute_result"
    }
   ],
   "source": [
    "# Fit and transform the tfidf_vectorizer with the \"plot\" of each movie\n",
    "# to create a vector representation of the plot summaries\n",
    "tfidf_matrix = tfidf_vectorizer.fit_transform([x for x in movie['plot']])\n",
    "\n",
    "tfidf_matrix.shape\n"
   ]
  },
  {
   "cell_type": "code",
   "execution_count": 39,
   "metadata": {},
   "outputs": [],
   "source": [
    "## K-means-clustering"
   ]
  },
  {
   "cell_type": "code",
   "execution_count": 42,
   "metadata": {},
   "outputs": [
    {
     "data": {
      "text/html": [
       "<div>\n",
       "<style scoped>\n",
       "    .dataframe tbody tr th:only-of-type {\n",
       "        vertical-align: middle;\n",
       "    }\n",
       "\n",
       "    .dataframe tbody tr th {\n",
       "        vertical-align: top;\n",
       "    }\n",
       "\n",
       "    .dataframe thead th {\n",
       "        text-align: right;\n",
       "    }\n",
       "</style>\n",
       "<table border=\"1\" class=\"dataframe\">\n",
       "  <thead>\n",
       "    <tr style=\"text-align: right;\">\n",
       "      <th></th>\n",
       "      <th>rank</th>\n",
       "      <th>title</th>\n",
       "      <th>genre</th>\n",
       "      <th>wiki_plot</th>\n",
       "      <th>imdb_plot</th>\n",
       "      <th>plot</th>\n",
       "      <th>cluster</th>\n",
       "    </tr>\n",
       "  </thead>\n",
       "  <tbody>\n",
       "    <tr>\n",
       "      <th>0</th>\n",
       "      <td>0</td>\n",
       "      <td>The Godfather</td>\n",
       "      <td>[u' Crime', u' Drama']</td>\n",
       "      <td>On the day of his only daughter's wedding, Vito Corleone hears requests in his role as the Godfa...</td>\n",
       "      <td>In late summer 1945, guests are gathered for the wedding reception of Don Vito Corleone's daught...</td>\n",
       "      <td>On the day of his only daughter's wedding, Vito Corleone hears requests in his role as the Godfa...</td>\n",
       "      <td>4</td>\n",
       "    </tr>\n",
       "    <tr>\n",
       "      <th>1</th>\n",
       "      <td>1</td>\n",
       "      <td>The Shawshank Redemption</td>\n",
       "      <td>[u' Crime', u' Drama']</td>\n",
       "      <td>In 1947, banker Andy Dufresne is convicted of murdering his wife and her lover and sentenced to ...</td>\n",
       "      <td>In 1947, Andy Dufresne (Tim Robbins), a banker in Maine, is convicted of murdering his wife and ...</td>\n",
       "      <td>In 1947, banker Andy Dufresne is convicted of murdering his wife and her lover and sentenced to ...</td>\n",
       "      <td>4</td>\n",
       "    </tr>\n",
       "    <tr>\n",
       "      <th>2</th>\n",
       "      <td>2</td>\n",
       "      <td>Schindler's List</td>\n",
       "      <td>[u' Biography', u' Drama', u' History']</td>\n",
       "      <td>In 1939, the Germans move Polish Jews into the Kraków Ghetto as World War II begins. Oskar Schin...</td>\n",
       "      <td>The relocation of Polish Jews from surrounding areas to Krakow begins in late 1939, shortly afte...</td>\n",
       "      <td>In 1939, the Germans move Polish Jews into the Kraków Ghetto as World War II begins. Oskar Schin...</td>\n",
       "      <td>4</td>\n",
       "    </tr>\n",
       "    <tr>\n",
       "      <th>3</th>\n",
       "      <td>3</td>\n",
       "      <td>Raging Bull</td>\n",
       "      <td>[u' Biography', u' Drama', u' Sport']</td>\n",
       "      <td>In a brief scene in 1964, an aging, overweight Italian American, Jake LaMotta (Robert De Niro), ...</td>\n",
       "      <td>The film opens in 1964, where an older and fatter Jake LaMotta (Robert De Niro) practices his st...</td>\n",
       "      <td>In a brief scene in 1964, an aging, overweight Italian American, Jake LaMotta (Robert De Niro), ...</td>\n",
       "      <td>1</td>\n",
       "    </tr>\n",
       "    <tr>\n",
       "      <th>4</th>\n",
       "      <td>4</td>\n",
       "      <td>Casablanca</td>\n",
       "      <td>[u' Drama', u' Romance', u' War']</td>\n",
       "      <td>It is early December 1941. American expatriate Rick Blaine is the proprietor of an upscale night...</td>\n",
       "      <td>In the early years of World War II, December 1941, the Moroccan coastal city of Casablanca attra...</td>\n",
       "      <td>It is early December 1941. American expatriate Rick Blaine is the proprietor of an upscale night...</td>\n",
       "      <td>1</td>\n",
       "    </tr>\n",
       "  </tbody>\n",
       "</table>\n",
       "</div>"
      ],
      "text/plain": [
       "   rank                     title                                    genre  \\\n",
       "0     0             The Godfather                   [u' Crime', u' Drama']   \n",
       "1     1  The Shawshank Redemption                   [u' Crime', u' Drama']   \n",
       "2     2          Schindler's List  [u' Biography', u' Drama', u' History']   \n",
       "3     3               Raging Bull    [u' Biography', u' Drama', u' Sport']   \n",
       "4     4                Casablanca        [u' Drama', u' Romance', u' War']   \n",
       "\n",
       "                                                                                             wiki_plot  \\\n",
       "0  On the day of his only daughter's wedding, Vito Corleone hears requests in his role as the Godfa...   \n",
       "1  In 1947, banker Andy Dufresne is convicted of murdering his wife and her lover and sentenced to ...   \n",
       "2  In 1939, the Germans move Polish Jews into the Kraków Ghetto as World War II begins. Oskar Schin...   \n",
       "3  In a brief scene in 1964, an aging, overweight Italian American, Jake LaMotta (Robert De Niro), ...   \n",
       "4  It is early December 1941. American expatriate Rick Blaine is the proprietor of an upscale night...   \n",
       "\n",
       "                                                                                             imdb_plot  \\\n",
       "0  In late summer 1945, guests are gathered for the wedding reception of Don Vito Corleone's daught...   \n",
       "1  In 1947, Andy Dufresne (Tim Robbins), a banker in Maine, is convicted of murdering his wife and ...   \n",
       "2  The relocation of Polish Jews from surrounding areas to Krakow begins in late 1939, shortly afte...   \n",
       "3  The film opens in 1964, where an older and fatter Jake LaMotta (Robert De Niro) practices his st...   \n",
       "4  In the early years of World War II, December 1941, the Moroccan coastal city of Casablanca attra...   \n",
       "\n",
       "                                                                                                  plot  \\\n",
       "0  On the day of his only daughter's wedding, Vito Corleone hears requests in his role as the Godfa...   \n",
       "1  In 1947, banker Andy Dufresne is convicted of murdering his wife and her lover and sentenced to ...   \n",
       "2  In 1939, the Germans move Polish Jews into the Kraków Ghetto as World War II begins. Oskar Schin...   \n",
       "3  In a brief scene in 1964, an aging, overweight Italian American, Jake LaMotta (Robert De Niro), ...   \n",
       "4  It is early December 1941. American expatriate Rick Blaine is the proprietor of an upscale night...   \n",
       "\n",
       "   cluster  \n",
       "0        4  \n",
       "1        4  \n",
       "2        4  \n",
       "3        1  \n",
       "4        1  "
      ]
     },
     "execution_count": 42,
     "metadata": {},
     "output_type": "execute_result"
    }
   ],
   "source": [
    "from sklearn.cluster import KMeans\n",
    "\n",
    "km=KMeans(n_clusters=5)\n",
    "\n",
    "km.fit(tfidf_matrix)\n",
    "\n",
    "clusters = km.labels_.tolist()\n",
    "\n",
    "moive['cluster']=clusters\n",
    "\n",
    "moive.head()"
   ]
  },
  {
   "cell_type": "code",
   "execution_count": 43,
   "metadata": {},
   "outputs": [
    {
     "data": {
      "text/plain": [
       "1    47\n",
       "3    22\n",
       "4    18\n",
       "2     7\n",
       "0     6\n",
       "Name: cluster, dtype: int64"
      ]
     },
     "execution_count": 43,
     "metadata": {},
     "output_type": "execute_result"
    }
   ],
   "source": [
    "moive['cluster'].value_counts()"
   ]
  },
  {
   "cell_type": "markdown",
   "metadata": {},
   "source": [
    "### Cosine-similarity"
   ]
  },
  {
   "cell_type": "code",
   "execution_count": 45,
   "metadata": {},
   "outputs": [],
   "source": [
    "# Import cosine_similarity to calculate similarity of movie plots\n",
    "from sklearn.metrics.pairwise import cosine_similarity\n",
    "\n",
    "# Calculate the similarity distance\n",
    "similarity_distance = 1 - cosine_similarity(tfidf_matrix)"
   ]
  }
 ],
 "metadata": {
  "kernelspec": {
   "display_name": "Python 3",
   "language": "python",
   "name": "python3"
  },
  "language_info": {
   "codemirror_mode": {
    "name": "ipython",
    "version": 3
   },
   "file_extension": ".py",
   "mimetype": "text/x-python",
   "name": "python",
   "nbconvert_exporter": "python",
   "pygments_lexer": "ipython3",
   "version": "3.7.2"
  }
 },
 "nbformat": 4,
 "nbformat_minor": 2
}
